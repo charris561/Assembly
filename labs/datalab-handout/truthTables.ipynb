{
 "cells": [
  {
   "attachments": {},
   "cell_type": "markdown",
   "metadata": {},
   "source": [
    "<h1>Datalab Notebook</h1>\n",
    "<p>This document will be used to help work though the datalab assignment for cs2160</p>\n",
    "<hr></hr>"
   ]
  },
  {
   "attachments": {},
   "cell_type": "markdown",
   "metadata": {},
   "source": [
    "# Questions to ask professor: \n",
    "\n",
    "* Why do hex numbers on computers always contain \"0x\"?\n",
    "* in problem 2, tmin(), why does shifting 8 bits left by 28 get the desired result? Having hard time visualizing: brute forced the answer using hex digits. \n",
    "* in problem 3, I got help from someone who had previously taken the class and am not sure logically how this results in the answer. Could you walk me through the logic of the statement? \n",
    "* What is allOddBits asking for?  In the examples, all hex digits contain bits 1 and 3 as 1.\n",
    "\n",
    "<hr></hr>"
   ]
  },
  {
   "attachments": {},
   "cell_type": "markdown",
   "metadata": {},
   "source": [
    "## Problem 1: bitXor\n",
    "*Instructions: implement bit Xor operation with bitwise & and ~ (bitwise AND and NOT)*"
   ]
  },
  {
   "attachments": {},
   "cell_type": "markdown",
   "metadata": {},
   "source": [
    "Needs to be logically equivalent to $(A \\land \\lnot B) \\lor (\\lnot A \\land B)$"
   ]
  },
  {
   "cell_type": "code",
   "execution_count": 1,
   "metadata": {},
   "outputs": [
    {
     "name": "stdout",
     "output_type": "stream",
     "text": [
      "Got: False | Expected: 0\n",
      "Got: True | Expected: 1\n",
      "Got: True | Expected: 1\n",
      "Got: False | Expected: 0\n"
     ]
    }
   ],
   "source": [
    "def bitxortruth(a, b):\n",
    "    print (f\"Got: {not(not (a and not b) and not (not a and b))} | Expected: {a^b}\")\n",
    "\n",
    "bitxortruth(1,1)\n",
    "bitxortruth(1,0)\n",
    "bitxortruth(0,1)\n",
    "bitxortruth(0,0)"
   ]
  },
  {
   "attachments": {},
   "cell_type": "markdown",
   "metadata": {},
   "source": [
    "## Problem 2: tmin\n",
    "\n",
    "Instructions: tmin - return minimum two's complement integer.<br>\n",
    "Legal ops: ! ~ & ^ | + << >><br>\n",
    "Max ops: 4<br>\n",
    "Rating: 1<br>"
   ]
  },
  {
   "attachments": {},
   "cell_type": "markdown",
   "metadata": {},
   "source": [
    "Need to check why the below works with professor; from what I surmise, it could be due to integer size being 8 bits then shifting by 28 but I'm not sure why this results in the answer. "
   ]
  },
  {
   "cell_type": "code",
   "execution_count": 35,
   "metadata": {},
   "outputs": [],
   "source": [
    "def tmin():\n",
    "    return 8 << 28\n",
    "\n",
    "answer = 0x80000000\n",
    "assert hex(tmin()) == hex(answer), f\"Got: {hex(tmin())} | Expected: {hex(answer)}\""
   ]
  },
  {
   "attachments": {},
   "cell_type": "markdown",
   "metadata": {},
   "source": [
    "## Problem 3: isTmax\n",
    "\n",
    "Instructions:<br>\n",
    "isTmax - returns 1 if x is the maximum, two's complement number,<br>\n",
    "and 0 otherwise <br>\n",
    "Legal ops: ! ~ & ^ | +<br>\n",
    "Max ops: 10<br>\n",
    "Rating: 1<br>"
   ]
  },
  {
   "attachments": {},
   "cell_type": "markdown",
   "metadata": {},
   "source": [
    "### Notes: \n",
    "\n",
    "We need to utilize the property of the maximum integer that the minimum possible signed integer on a 32bit system is 0x80000000 (-2147483648) and the maximum value is 0x7FFFFFFF(2147483647). <br>\n",
    "\n",
    "Let MAX_INT = 2147483647 and MIN_INT=-2147483648. <br>\n",
    "MAX_INT + 1 = |MIN_INT|<br>\n",
    "Therefore if x = MAX_INT, (x + 1) ^ ~x should yeild whether this is tmax.<br>\n",
    "\n",
    "Can't implement this in python because cant use just ! as we can in C. "
   ]
  },
  {
   "cell_type": "code",
   "execution_count": null,
   "metadata": {},
   "outputs": [],
   "source": [
    "def isTmax(x):\n",
    "    \n",
    "    print(\"----------\")\n",
    "    print(f\"x = {x}| hex: {hex(x)}\")\n",
    "    print(f\"x + 1 = {x + 1}| hex: {hex(x + 1)}\")\n",
    "    print(f\"~x: {~x}| hex: {hex(~x)}\")\n",
    "    answer = 0 | 1\n",
    "    print(f\"answer: {answer}| hex: {hex(answer)}\")\n",
    "    print(\"----------\")\n",
    "\n",
    "    return answer\n",
    "\n",
    "#testing\n",
    "print(f\"Expected 0, Got: {isTmax(-2147483648)}\")\n",
    "print(f\"Expected 1, Got: {isTmax(2147483647)}\")\n",
    "print(f\"Expected 0, Got: {isTmax(2147483646)}\")\n",
    "print(f\"Expected 0, Got: {isTmax(2147483646)}\")\n",
    "assert isTmax(-2147483648) == 0, f\"Expected 0, Got: {isTmax(-2147483648)}\"\n",
    "assert isTmax(2147483647) == 1, f\"Expected 1, Got: {isTmax(2147483647)}\"\n",
    "assert isTmax(2147483646) == 0, f\"Expected 0, Got: {isTmax(2147483646)}\"\n",
    "assert isTmax(-1) == 0, f\"Expected 0, Got: {isTmax(2147483646)}\""
   ]
  },
  {
   "attachments": {},
   "cell_type": "markdown",
   "metadata": {},
   "source": [
    "## Problem 4: allOddBits\n",
    "\n",
    "Instructions:  \n",
    "allOddBits - return 1 if all odd-numbered bits in word set to 1 where bits are numbered from 0 (least significant) to 31 (most significant)\n",
    " *   Examples allOddBits(0xFFFFFFFD) = 0, allOddBits(0xAAAAAAAA) = 1\n",
    " *   Legal ops: ! ~ & ^ | + << >>\n",
    " *   Max ops: 12\n",
    " *   Rating: 2"
   ]
  },
  {
   "attachments": {},
   "cell_type": "markdown",
   "metadata": {},
   "source": [
    "Notes: If I am understanding this question correctly, this is asking if the bits 1 or 3 in a word are set to 1. For example in the examples given above, D = 1101; checks out. But F = 1111. Maybe I'm count the bits wrong??"
   ]
  },
  {
   "attachments": {},
   "cell_type": "markdown",
   "metadata": {},
   "source": [
    "## Problem 5: Negate\n",
    "\n",
    "Instructions: negate - return -x \n",
    " *   Example: negate(1) = -1.\n",
    " *   Legal ops: ! ~ & ^ | + << >>\n",
    " *   Max ops: 5\n",
    " *   Rating: 2"
   ]
  },
  {
   "attachments": {},
   "cell_type": "markdown",
   "metadata": {},
   "source": [
    "Take advantage of the fact that the lease signifigant bit represents the sign bit. "
   ]
  },
  {
   "cell_type": "code",
   "execution_count": 198,
   "metadata": {},
   "outputs": [
    {
     "name": "stdout",
     "output_type": "stream",
     "text": [
      "x = 5 | binary = 0b101 | hex = 0x5\n",
      "-x = -5 | binary = -0b101 | hex = -0x5\n"
     ]
    },
    {
     "data": {
      "text/plain": [
       "-5"
      ]
     },
     "execution_count": 198,
     "metadata": {},
     "output_type": "execute_result"
    }
   ],
   "source": [
    "def negate(x):\n",
    "\n",
    "    answer = -x\n",
    "    print (f\"x = {x} | binary = {bin(x)} | hex = {hex(x)}\")\n",
    "    print (f\"-x = {-x} | binary = {bin(-x)} | hex = {hex(-x)}\")\n",
    "\n",
    "    return answer\n",
    "\n",
    "x = 5\n",
    "negate(x)\n",
    "#print(f\"x = {x} | negate(x) = {negate(x)}\")"
   ]
  }
 ],
 "metadata": {
  "kernelspec": {
   "display_name": "Python 3",
   "language": "python",
   "name": "python3"
  },
  "language_info": {
   "codemirror_mode": {
    "name": "ipython",
    "version": 3
   },
   "file_extension": ".py",
   "mimetype": "text/x-python",
   "name": "python",
   "nbconvert_exporter": "python",
   "pygments_lexer": "ipython3",
   "version": "3.11.0"
  },
  "orig_nbformat": 4,
  "vscode": {
   "interpreter": {
    "hash": "5238573367df39f7286bb46f9ff5f08f63a01a80960060ce41e3c79b190280fa"
   }
  }
 },
 "nbformat": 4,
 "nbformat_minor": 2
}
