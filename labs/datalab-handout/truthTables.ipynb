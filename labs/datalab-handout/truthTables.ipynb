{
 "cells": [
  {
   "attachments": {},
   "cell_type": "markdown",
   "metadata": {},
   "source": [
    "<h1>Datalab Notebook</h1>\n",
    "<p>This document will be used to help work though the datalab assignment for cs2160</p>\n",
    "<hr></hr>"
   ]
  },
  {
   "attachments": {},
   "cell_type": "markdown",
   "metadata": {},
   "source": [
    "## Problem 1: bitXor\n",
    "*Instructions: implement bit Xor operation with bitwise & and ~ (bitwise AND and NOT)*"
   ]
  },
  {
   "attachments": {},
   "cell_type": "markdown",
   "metadata": {},
   "source": [
    "Needs to be logically equivalent to $(A \\land \\lnot B) \\lor (\\lnot A \\land B)$"
   ]
  },
  {
   "cell_type": "code",
   "execution_count": 1,
   "metadata": {},
   "outputs": [
    {
     "name": "stdout",
     "output_type": "stream",
     "text": [
      "Got: False | Expected: 0\n",
      "Got: True | Expected: 1\n",
      "Got: True | Expected: 1\n",
      "Got: False | Expected: 0\n"
     ]
    }
   ],
   "source": [
    "def bitxortruth(a, b):\n",
    "    print (f\"Got: {not(not (a and not b) and not (not a and b))} | Expected: {a^b}\")\n",
    "\n",
    "bitxortruth(1,1)\n",
    "bitxortruth(1,0)\n",
    "bitxortruth(0,1)\n",
    "bitxortruth(0,0)"
   ]
  },
  {
   "attachments": {},
   "cell_type": "markdown",
   "metadata": {},
   "source": [
    "## Problem 2: tmin\n",
    "\n",
    "Instructions: tmin - return minimum two's complement integer.<br>\n",
    "Legal ops: ! ~ & ^ | + << >><br>\n",
    "Max ops: 4<br>\n",
    "Rating: 1<br>"
   ]
  },
  {
   "attachments": {},
   "cell_type": "markdown",
   "metadata": {},
   "source": [
    "Need to check why the below works with professor; from what I surmise, it could be due to integer size being 8 bits then shifting by 28 but I'm not sure why this results in the answer. "
   ]
  },
  {
   "cell_type": "code",
   "execution_count": 35,
   "metadata": {},
   "outputs": [],
   "source": [
    "def tmin():\n",
    "    return 8 << 28\n",
    "\n",
    "answer = 0x80000000\n",
    "assert hex(tmin()) == hex(answer), f\"Got: {hex(tmin())} | Expected: {hex(answer)}\""
   ]
  },
  {
   "attachments": {},
   "cell_type": "markdown",
   "metadata": {},
   "source": [
    "## Problem 3: isTmax\n",
    "\n",
    "Instructions:<br>\n",
    "isTmax - returns 1 if x is the maximum, two's complement number,<br>\n",
    "and 0 otherwise <br>\n",
    "Legal ops: ! ~ & ^ | +<br>\n",
    "Max ops: 10<br>\n",
    "Rating: 1<br>"
   ]
  },
  {
   "cell_type": "code",
   "execution_count": 50,
   "metadata": {},
   "outputs": [
    {
     "name": "stdout",
     "output_type": "stream",
     "text": [
      "False\n"
     ]
    }
   ],
   "source": [
    "def isTmax(x):\n",
    "    \n",
    "    answer = not (x ^ (x + 1))\n",
    "\n",
    "    return answer\n",
    "\n",
    "print (isTmax(-2147483648))"
   ]
  }
 ],
 "metadata": {
  "kernelspec": {
   "display_name": "Python 3",
   "language": "python",
   "name": "python3"
  },
  "language_info": {
   "codemirror_mode": {
    "name": "ipython",
    "version": 3
   },
   "file_extension": ".py",
   "mimetype": "text/x-python",
   "name": "python",
   "nbconvert_exporter": "python",
   "pygments_lexer": "ipython3",
   "version": "3.11.0"
  },
  "orig_nbformat": 4,
  "vscode": {
   "interpreter": {
    "hash": "5238573367df39f7286bb46f9ff5f08f63a01a80960060ce41e3c79b190280fa"
   }
  }
 },
 "nbformat": 4,
 "nbformat_minor": 2
}
